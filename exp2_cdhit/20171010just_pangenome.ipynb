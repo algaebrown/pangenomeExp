{
 "cells": [
  {
   "cell_type": "code",
   "execution_count": 3,
   "metadata": {
    "collapsed": true
   },
   "outputs": [],
   "source": [
    "import matplotlib as mpl\n",
    "import matplotlib.pyplot as plt\n",
    "import numpy as np\n",
    "\n",
    "# set style\n",
    "mpl.style.use(\"ggplot\")\n",
    "\n",
    "# plot inline\n",
    "%matplotlib inline"
   ]
  },
  {
   "cell_type": "code",
   "execution_count": 27,
   "metadata": {
    "collapsed": false
   },
   "outputs": [
    {
     "name": "stdout",
     "output_type": "stream",
     "text": [
      "2874 13076 5522\n",
      "98.943429783 82.2062326726\n",
      "329.147581819 224.352406137\n"
     ]
    }
   ],
   "source": [
    "import pandas as pd\n",
    "df = pd.read_pickle(\"../../cdhitResult/ec0913_df\")\n",
    "cluster_detail = pd.read_pickle(\"../../cdhitResult/cluster_detail_df\")\n",
    "\n",
    "# core genome, accessory genome\n",
    "gene_count = df.sum(axis = 0)\n",
    "core = gene_count.loc[gene_count == 59] \n",
    "accessory = gene_count.loc[gene_count != 59]\n",
    "unique = gene_count.loc[gene_count == 1]\n",
    "print(len(core), len(accessory), len(unique))\n",
    "\n",
    "# determine how conserved they are: they are all similar\n",
    "core_sim = cluster_detail.loc[core.index.values, 'mean similarity'].mean()\n",
    "acc_sim = cluster_detail.loc[accessory.index.values, 'mean similarity'].mean()\n",
    "print(core_sim, acc_sim)\n",
    "\n",
    "# determine the length gap between representing sequence and other members of the family\n",
    "core_len_gap_se = cluster_detail.loc[core.index.values, 'representing gene length'] - cluster_detail.loc[core.index.values, 'mean length']\n",
    "accessory_len_gap_se = cluster_detail.loc[accessory.index.values, 'representing gene length'] - cluster_detail.loc[accessory.index.values, 'mean length']\n",
    "print(core_len_gap_se.mean(), accessory_len_gap_se.mean())"
   ]
  },
  {
   "cell_type": "code",
   "execution_count": 6,
   "metadata": {
    "collapsed": false
   },
   "outputs": [],
   "source": [
    "#cog_category\n",
    "with open(\"/home/hermuba/ecoli.cog.list\") as f:\n",
    "    for line in f:\n",
    "        line = line.replace('\\n', '')\n",
    "        genome_id = line.split('\\t')[0]\n",
    "        protein_id = line.split('\\t')[1]\n",
    "        head = protein_id+'|'+genome_id\n",
    "        if head in list(cluster_detail['representing gene header']):\n",
    "            index = cluster_detail.loc[cluster_detail['representing gene header'] == head].index\n",
    "            cluster_detail.loc[index, 'cog'] = line.split('\\t')[2]\n",
    "    "
   ]
  },
  {
   "cell_type": "code",
   "execution_count": 7,
   "metadata": {
    "collapsed": false
   },
   "outputs": [
    {
     "data": {
      "text/plain": [
       "(7877, 8)"
      ]
     },
     "execution_count": 7,
     "metadata": {},
     "output_type": "execute_result"
    }
   ],
   "source": [
    "cluster_detail.loc[cluster_detail['cog'].isnull()].shape"
   ]
  },
  {
   "cell_type": "code",
   "execution_count": 8,
   "metadata": {
    "collapsed": false
   },
   "outputs": [
    {
     "data": {
      "text/plain": [
       "<matplotlib.axes._subplots.AxesSubplot at 0x7f2b511b5940>"
      ]
     },
     "execution_count": 8,
     "metadata": {},
     "output_type": "execute_result"
    },
    {
     "data": {
      "image/png": "[encoded data removed]",
      "text/plain": [
       "<matplotlib.figure.Figure at 0x7f2b511b5b38>"
      ]
     },
     "metadata": {},
     "output_type": "display_data"
    }
   ],
   "source": [
    "# pangenome distribution\n",
    "gene_count.hist()"
   ]
  },
  {
   "cell_type": "code",
   "execution_count": 9,
   "metadata": {
    "collapsed": false
   },
   "outputs": [],
   "source": [
    "# add on card annotation (each member)\n",
    "def card_in_cluster(cluster_name):\n",
    "    count = 0\n",
    "    members = cluster_detail.loc[cluster_name, 'member'].split(',')[1:] # the first element is ''\n",
    "    for mem in members:\n",
    "        genome_id = mem.split('|')[1]\n",
    "        protein_id = mem.split('|')[0]\n",
    "        \n",
    "        df = pd.read_pickle(\"../../cdhitResult/card_detail_df/\"+genome_id)\n",
    "        if protein_id in df.index:\n",
    "            count = count + 1\n",
    "        \n",
    "    return(count, count/len(members))\n",
    "for clu in cluster_detail.index:\n",
    "    count, portion = card_in_cluster(clu)\n",
    "    cluster_detail.loc[clu, \"card_portion\"] = portion\n",
    "    cluster_detail.loc[clu, \"card_count\"] = count\n"
   ]
  },
  {
   "cell_type": "code",
   "execution_count": 10,
   "metadata": {
    "collapsed": false
   },
   "outputs": [
    {
     "data": {
      "text/plain": [
       "<matplotlib.text.Text at 0x7f2b51b41f28>"
      ]
     },
     "execution_count": 10,
     "metadata": {},
     "output_type": "execute_result"
    },
    {
     "data": {
      "image/png": "[encoded data removed]",
      "text/plain": [
       "<matplotlib.figure.Figure at 0x7f2b5182ec50>"
      ]
     },
     "metadata": {},
     "output_type": "display_data"
    }
   ],
   "source": [
    "fig, ax = plt.subplots()\n",
    "cluster_detail['card_portion'].hist(bins = 100, ax = ax)\n",
    "ax.set_yscale('log')\n",
    "ax.set_ylabel(\"log count\")\n",
    "ax.set_xlabel(\"freqency of containing card gene in a cluster\")"
   ]
  },
  {
   "cell_type": "code",
   "execution_count": 11,
   "metadata": {
    "collapsed": false
   },
   "outputs": [
    {
     "data": {
      "text/plain": [
       "<matplotlib.text.Text at 0x7f2b4e881b70>"
      ]
     },
     "execution_count": 11,
     "metadata": {},
     "output_type": "execute_result"
    },
    {
     "data": {
      "image/png": "[encoded data removed]",
      "text/plain": [
       "<matplotlib.figure.Figure at 0x7f2b4e8d4c50>"
      ]
     },
     "metadata": {},
     "output_type": "display_data"
    }
   ],
   "source": [
    "fig, ax = plt.subplots()\n",
    "cluster_detail['card_count'].hist(bins = 10, ax = ax)\n",
    "ax.set_yscale('log')\n",
    "ax.set_ylabel(\"log count\")\n",
    "ax.set_xlabel(\"card gene count\")"
   ]
  },
  {
   "cell_type": "code",
   "execution_count": 12,
   "metadata": {
    "collapsed": false
   },
   "outputs": [],
   "source": [
    "#cluster_detail.to_pickle(\"../../cdhitResult/cluster_detail_tmp1010\")"
   ]
  },
  {
   "cell_type": "code",
   "execution_count": 33,
   "metadata": {
    "collapsed": true
   },
   "outputs": [],
   "source": [
    "cluster_detail = pd.read_pickle(\"../../cdhitResult/cluster_detail_tmp1010\")"
   ]
  },
  {
   "cell_type": "code",
   "execution_count": 17,
   "metadata": {
    "collapsed": false
   },
   "outputs": [],
   "source": [
    "ct = pd.DataFrame(columns = ['core', 'accessory', 'pangenome'])\n",
    "i = 0\n",
    "for index, row in df.iterrows():\n",
    "    i = i + 1\n",
    "    count = df.iloc[:i, :]\n",
    "    \n",
    "    count = count.sum(axis = 0)\n",
    "    \n",
    "    al = len(count.loc[count > 0])\n",
    "    cr = len(count.loc[count == i])\n",
    "    acc = al - core ######\n",
    "    ct.loc[index, 'core'] = cr\n",
    "    ct.loc[index, 'accessory'] = acc\n",
    "    ct.loc[index, 'pangenome'] = al"
   ]
  },
  {
   "cell_type": "code",
   "execution_count": null,
   "metadata": {
    "collapsed": true
   },
   "outputs": [],
   "source": []
  },
  {
   "cell_type": "code",
   "execution_count": 22,
   "metadata": {
    "collapsed": false
   },
   "outputs": [
    {
     "data": {
      "text/plain": [
       "<matplotlib.axes._subplots.AxesSubplot at 0x7f2b4e1b1ef0>"
      ]
     },
     "execution_count": 22,
     "metadata": {},
     "output_type": "execute_result"
    },
    {
     "data": {
      "image/png": "[encoded data removed]",
      "text/plain": [
       "<matplotlib.figure.Figure at 0x7f2b4e618eb8>"
      ]
     },
     "metadata": {},
     "output_type": "display_data"
    }
   ],
   "source": [
    "ct.plot(xticks = np.arange(1, 59, 1), use_index = False, figsize = (15,10))"
   ]
  },
  {
   "cell_type": "code",
   "execution_count": 68,
   "metadata": {
    "collapsed": false
   },
   "outputs": [],
   "source": [
    "# cog group\n",
    "core_cog = cluster_detail.loc[list(core.index),'cog']\n",
    "acc_cog = cluster_detail.loc[list(accessory.index), 'cog']\n"
   ]
  },
  {
   "cell_type": "code",
   "execution_count": 70,
   "metadata": {
    "collapsed": false
   },
   "outputs": [
    {
     "data": {
      "text/plain": [
       "<matplotlib.axes._subplots.AxesSubplot at 0x7f2b4c54beb8>"
      ]
     },
     "execution_count": 70,
     "metadata": {},
     "output_type": "execute_result"
    },
    {
     "data": {
      "image/png": "[encoded data removed]",
      "text/plain": [
       "<matplotlib.figure.Figure at 0x7f2b4c56cd30>"
      ]
     },
     "metadata": {},
     "output_type": "display_data"
    }
   ],
   "source": [
    "cog_count = pd.concat([core_cog.value_counts(), acc_cog.value_counts()], axis = 1)\n",
    "cog_count.plot.bar(figsize = (15,10))"
   ]
  },
  {
   "cell_type": "code",
   "execution_count": 76,
   "metadata": {
    "collapsed": false
   },
   "outputs": [
    {
     "data": {
      "text/plain": [
       "<matplotlib.axes._subplots.AxesSubplot at 0x7f2b4bd47e10>"
      ]
     },
     "execution_count": 76,
     "metadata": {},
     "output_type": "execute_result"
    },
    {
     "data": {
      "image/png": "[encoded data removed]",
      "text/plain": [
       "<matplotlib.figure.Figure at 0x7f2b4c17f198>"
      ]
     },
     "metadata": {},
     "output_type": "display_data"
    }
   ],
   "source": [
    "cog_freq = pd.concat([core_cog.value_counts(normalize = True), acc_cog.value_counts(normalize = True)], axis = 1, keys = ['core', 'acc'])\n",
    "cog_freq.sort_values(by = 'core').plot.bar(figsize = (15,10))"
   ]
  },
  {
   "cell_type": "code",
   "execution_count": 80,
   "metadata": {
    "collapsed": false
   },
   "outputs": [
    {
     "data": {
      "text/plain": [
       "0.08663883089770355"
      ]
     },
     "execution_count": 80,
     "metadata": {},
     "output_type": "execute_result"
    }
   ],
   "source": [
    "len(core_cog.loc[core_cog.isnull()])/len(core_cog)"
   ]
  },
  {
   "cell_type": "code",
   "execution_count": 81,
   "metadata": {
    "collapsed": false
   },
   "outputs": [
    {
     "data": {
      "text/plain": [
       "0.5833588253288468"
      ]
     },
     "execution_count": 81,
     "metadata": {},
     "output_type": "execute_result"
    }
   ],
   "source": [
    "len(acc_cog.loc[acc_cog.isnull()])/len(acc_cog) # more accessory genes do not have cog "
   ]
  },
  {
   "cell_type": "code",
   "execution_count": 94,
   "metadata": {
    "collapsed": false
   },
   "outputs": [
    {
     "data": {
      "text/plain": [
       "<matplotlib.axes._subplots.AxesSubplot at 0x7f2b4b6d2cc0>"
      ]
     },
     "execution_count": 94,
     "metadata": {},
     "output_type": "execute_result"
    },
    {
     "data": {
      "image/png": "[encoded data removed]",
      "text/plain": [
       "<matplotlib.figure.Figure at 0x7f2b4b993fd0>"
      ]
     },
     "metadata": {},
     "output_type": "display_data"
    }
   ],
   "source": [
    "cog_group_ratio = cog_freq['core']/cog_freq['acc']\n",
    "cog_group_ratio.sort_values().plot.bar(figsize = (10,4))"
   ]
  },
  {
   "cell_type": "code",
   "execution_count": 95,
   "metadata": {
    "collapsed": false
   },
   "outputs": [
    {
     "data": {
      "text/plain": [
       "NU       0.019861\n",
       "MU       0.030079\n",
       "L        0.276884\n",
       "GM       0.366252\n",
       "U        0.400935\n",
       "V        0.415086\n",
       "CP       0.518857\n",
       "M        0.588554\n",
       "N        0.683671\n",
       "R        0.705350\n",
       "K        0.711068\n",
       "S        0.768268\n",
       "OU       0.778286\n",
       "Q        0.818479\n",
       "EG       1.037714\n",
       "A        1.037714\n",
       "HJ       1.037714\n",
       "G        1.178376\n",
       "D        1.273558\n",
       "P        1.643813\n",
       "NT       1.729524\n",
       "T        1.864368\n",
       "I        2.075429\n",
       "KT       2.075429\n",
       "C        2.739083\n",
       "F        3.052101\n",
       "EP       3.113143\n",
       "CH       3.113143\n",
       "O        3.337514\n",
       "H        3.368812\n",
       "E        3.420614\n",
       "J       11.880039\n",
       "CG            NaN\n",
       "CO            NaN\n",
       "DJ            NaN\n",
       "FG            NaN\n",
       "FH            NaN\n",
       "FJ            NaN\n",
       "FL            NaN\n",
       "FP            NaN\n",
       "HI            NaN\n",
       "IM            NaN\n",
       "IQ            NaN\n",
       "KO            NaN\n",
       "MP            NaN\n",
       "NOU           NaN\n",
       "NPTU          NaN\n",
       "OT            NaN\n",
       "PT            NaN\n",
       "UW            NaN\n",
       "dtype: float64"
      ]
     },
     "execution_count": 95,
     "metadata": {},
     "output_type": "execute_result"
    }
   ],
   "source": [
    "cog_group_ratio.sort_values()"
   ]
  },
  {
   "cell_type": "code",
   "execution_count": 101,
   "metadata": {
    "collapsed": false
   },
   "outputs": [
    {
     "data": {
      "text/plain": [
       "V    21\n",
       "G    14\n",
       "M    11\n",
       "K    10\n",
       "H     9\n",
       "T     8\n",
       "P     8\n",
       "R     8\n",
       "J     7\n",
       "S     5\n",
       "L     3\n",
       "C     1\n",
       "O     1\n",
       "E     1\n",
       "Name: cog, dtype: int64"
      ]
     },
     "execution_count": 101,
     "metadata": {},
     "output_type": "execute_result"
    }
   ],
   "source": [
    "card_genes = cluster_detail.loc[cluster_detail['card_portion'] > 0]\n",
    "card_genes['cog'].value_counts()"
   ]
  },
  {
   "cell_type": "code",
   "execution_count": 102,
   "metadata": {
    "collapsed": true
   },
   "outputs": [],
   "source": [
    "core_card = cluster_detail.loc[list(core.index),'card_portion']\n",
    "acc_card = cluster_detail.loc[list(accessory.index), 'card_portion']\n"
   ]
  },
  {
   "cell_type": "code",
   "execution_count": 104,
   "metadata": {
    "collapsed": false
   },
   "outputs": [
    {
     "data": {
      "text/plain": [
       "Cluster 55       0.000000\n",
       "Cluster 72       0.000000\n",
       "Cluster 83       0.000000\n",
       "Cluster 90       0.000000\n",
       "Cluster 115      0.000000\n",
       "Cluster 140      0.000000\n",
       "Cluster 142      0.000000\n",
       "Cluster 145      0.000000\n",
       "Cluster 150      0.000000\n",
       "Cluster 153      0.000000\n",
       "Cluster 164      0.000000\n",
       "Cluster 175      0.000000\n",
       "Cluster 185      0.000000\n",
       "Cluster 187      0.000000\n",
       "Cluster 192      0.000000\n",
       "Cluster 209      0.237838\n",
       "Cluster 215      0.000000\n",
       "Cluster 218      0.000000\n",
       "Cluster 222      1.000000\n",
       "Cluster 229      0.000000\n",
       "Cluster 247      0.000000\n",
       "Cluster 248      0.000000\n",
       "Cluster 252      0.000000\n",
       "Cluster 256      0.000000\n",
       "Cluster 261      0.000000\n",
       "Cluster 275      0.000000\n",
       "Cluster 280      0.000000\n",
       "Cluster 281      1.000000\n",
       "Cluster 284      0.000000\n",
       "Cluster 285      0.000000\n",
       "                   ...   \n",
       "Cluster 15008    0.000000\n",
       "Cluster 15117    0.000000\n",
       "Cluster 15118    0.000000\n",
       "Cluster 15119    0.000000\n",
       "Cluster 15120    0.000000\n",
       "Cluster 15121    0.000000\n",
       "Cluster 15123    0.000000\n",
       "Cluster 15164    0.000000\n",
       "Cluster 15196    0.000000\n",
       "Cluster 15200    0.000000\n",
       "Cluster 15201    0.000000\n",
       "Cluster 15202    0.000000\n",
       "Cluster 15245    0.000000\n",
       "Cluster 15273    0.000000\n",
       "Cluster 15305    0.000000\n",
       "Cluster 15404    0.000000\n",
       "Cluster 15436    0.000000\n",
       "Cluster 15488    0.000000\n",
       "Cluster 15489    0.000000\n",
       "Cluster 15515    0.000000\n",
       "Cluster 15595    0.000000\n",
       "Cluster 15619    0.000000\n",
       "Cluster 15621    0.000000\n",
       "Cluster 15691    0.000000\n",
       "Cluster 15716    0.000000\n",
       "Cluster 15771    0.000000\n",
       "Cluster 15774    0.000000\n",
       "Cluster 15828    0.000000\n",
       "Cluster 15859    0.000000\n",
       "Cluster 15904    0.000000\n",
       "Name: card_portion, Length: 2874, dtype: float64"
      ]
     },
     "execution_count": 104,
     "metadata": {},
     "output_type": "execute_result"
    }
   ],
   "source": [
    "core_card"
   ]
  },
  {
   "cell_type": "code",
   "execution_count": 105,
   "metadata": {
    "collapsed": false
   },
   "outputs": [
    {
     "data": {
      "text/plain": [
       "0.014961725817675714"
      ]
     },
     "execution_count": 105,
     "metadata": {},
     "output_type": "execute_result"
    }
   ],
   "source": [
    "len(core_card.loc[core_card>0])/len(core_card)"
   ]
  },
  {
   "cell_type": "code",
   "execution_count": 106,
   "metadata": {
    "collapsed": false
   },
   "outputs": [
    {
     "data": {
      "text/plain": [
       "0.005200367084735393"
      ]
     },
     "execution_count": 106,
     "metadata": {},
     "output_type": "execute_result"
    }
   ],
   "source": [
    "len(acc_card.loc[acc_card>0])/len(acc_card)"
   ]
  },
  {
   "cell_type": "code",
   "execution_count": 107,
   "metadata": {
    "collapsed": false
   },
   "outputs": [
    {
     "data": {
      "text/plain": [
       "43"
      ]
     },
     "execution_count": 107,
     "metadata": {},
     "output_type": "execute_result"
    }
   ],
   "source": [
    "len(core_card.loc[core_card>0])"
   ]
  },
  {
   "cell_type": "code",
   "execution_count": 108,
   "metadata": {
    "collapsed": false
   },
   "outputs": [
    {
     "data": {
      "text/plain": [
       "68"
      ]
     },
     "execution_count": 108,
     "metadata": {},
     "output_type": "execute_result"
    }
   ],
   "source": [
    "len(acc_card.loc[acc_card>0])"
   ]
  },
  {
   "cell_type": "code",
   "execution_count": null,
   "metadata": {
    "collapsed": true
   },
   "outputs": [],
   "source": []
  }
 ],
 "metadata": {
  "kernelspec": {
   "display_name": "Python 3",
   "language": "python",
   "name": "python3"
  },
  "language_info": {
   "codemirror_mode": {
    "name": "ipython",
    "version": 3
   },
   "file_extension": ".py",
   "mimetype": "text/x-python",
   "name": "python",
   "nbconvert_exporter": "python",
   "pygments_lexer": "ipython3",
   "version": "3.6.0"
  }
 },
 "nbformat": 4,
 "nbformat_minor": 2
}
