{
 "cells": [
  {
   "cell_type": "code",
   "execution_count": 1,
   "metadata": {
    "collapsed": true
   },
   "outputs": [],
   "source": [
    "import matplotlib as mpl\n",
    "import matplotlib.pyplot as plt\n",
    "import numpy as np\n",
    "\n",
    "# set style\n",
    "mpl.style.use(\"ggplot\")\n",
    "\n",
    "# plot inline\n",
    "%matplotlib inline"
   ]
  },
  {
   "cell_type": "code",
   "execution_count": 2,
   "metadata": {
    "collapsed": false
   },
   "outputs": [
    {
     "name": "stdout",
     "output_type": "stream",
     "text": [
      "2874 13076 5522\n",
      "98.943429783 82.2062326726\n",
      "329.147581819 224.352406137\n"
     ]
    }
   ],
   "source": [
    "import pandas as pd\n",
    "df = pd.read_pickle(\"../../cdhitResult/ec0913_df\")\n",
    "cluster_detail = pd.read_pickle(\"../../cdhitResult/cluster_detail_df\")\n",
    "\n",
    "# core genome, accessory genome\n",
    "gene_count = df.sum(axis = 0)\n",
    "core = gene_count.loc[gene_count == 59] \n",
    "accessory = gene_count.loc[gene_count != 59]\n",
    "unique = gene_count.loc[gene_count == 1]\n",
    "print(len(core), len(accessory), len(unique))\n",
    "\n",
    "# determine how conserved they are: they are all similar\n",
    "core_sim = cluster_detail.loc[core.index.values, 'mean similarity'].mean()\n",
    "acc_sim = cluster_detail.loc[accessory.index.values, 'mean similarity'].mean()\n",
    "print(core_sim, acc_sim)\n",
    "\n",
    "# determine the length gap between representing sequence and other members of the family\n",
    "core_len_gap_se = cluster_detail.loc[core.index.values, 'representing gene length'] - cluster_detail.loc[core.index.values, 'mean length']\n",
    "accessory_len_gap_se = cluster_detail.loc[accessory.index.values, 'representing gene length'] - cluster_detail.loc[accessory.index.values, 'mean length']\n",
    "print(core_len_gap_se.mean(), accessory_len_gap_se.mean())"
   ]
  },
  {
   "cell_type": "code",
   "execution_count": 3,
   "metadata": {
    "collapsed": false
   },
   "outputs": [],
   "source": [
    "#cog_category\n",
    "with open(\"/home/hermuba/ecoli.cog.list\") as f:\n",
    "    for line in f:\n",
    "        genome_id = line.split('\\t')[0]\n",
    "        protein_id = line.split('\\t')[1]\n",
    "        head = protein_id+'|'+genome_id\n",
    "        if head in list(cluster_detail['representing gene header']):\n",
    "            index = cluster_detail.loc[cluster_detail['representing gene header'] == head].index\n",
    "            cluster_detail.loc[index, 'cog'] = line.split('\\t')[2]\n",
    "    "
   ]
  },
  {
   "cell_type": "code",
   "execution_count": 10,
   "metadata": {
    "collapsed": false
   },
   "outputs": [
    {
     "data": {
      "text/plain": [
       "(7877, 6)"
      ]
     },
     "execution_count": 10,
     "metadata": {},
     "output_type": "execute_result"
    }
   ],
   "source": [
    "cluster_detail.loc[cluster_detail['cog'].isnull()].shape"
   ]
  },
  {
   "cell_type": "code",
   "execution_count": 57,
   "metadata": {
    "collapsed": false
   },
   "outputs": [
    {
     "data": {
      "text/plain": [
       "'1438670.3\\tJMUY01000001_2\\tS\\n'"
      ]
     },
     "execution_count": 57,
     "metadata": {},
     "output_type": "execute_result"
    }
   ],
   "source": [
    "line"
   ]
  },
  {
   "cell_type": "code",
   "execution_count": 10,
   "metadata": {
    "collapsed": false
   },
   "outputs": [
    {
     "data": {
      "text/plain": [
       "<matplotlib.axes._subplots.AxesSubplot at 0x7fc39d082668>"
      ]
     },
     "execution_count": 10,
     "metadata": {},
     "output_type": "execute_result"
    },
    {
     "data": {
      "image/png": "[encoded data removed]",
      "text/plain": [
       "<matplotlib.figure.Figure at 0x7fc39cfd04a8>"
      ]
     },
     "metadata": {},
     "output_type": "display_data"
    }
   ],
   "source": [
    "# pangenome distribution\n",
    "gene_count.hist()"
   ]
  },
  {
   "cell_type": "code",
   "execution_count": 49,
   "metadata": {
    "collapsed": false
   },
   "outputs": [],
   "source": [
    "# add on card annotation (each member)\n",
    "def card_in_cluster(cluster_name):\n",
    "    count = 0\n",
    "    members = cluster_detail.loc[cluster_name, 'member'].split(',')[1:] # the first element is ''\n",
    "    for mem in members:\n",
    "        genome_id = mem.split('|')[1]\n",
    "        protein_id = mem.split('|')[0]\n",
    "        \n",
    "        df = pd.read_pickle(\"../../cdhitResult/card_detail_df/\"+genome_id)\n",
    "        if protein_id in df.index:\n",
    "            count = count + 1\n",
    "        \n",
    "    return(count, count/len(members))\n",
    "for clu in cluster_detail.index:\n",
    "    count, portion = card_in_cluster(clu)\n",
    "    cluster_detail.loc[clu, \"card_portion\"] = portion\n",
    "    cluster_detail.loc[clu, \"card_count\"] = count\n"
   ]
  },
  {
   "cell_type": "code",
   "execution_count": 50,
   "metadata": {
    "collapsed": false
   },
   "outputs": [
    {
     "data": {
      "text/plain": [
       "<matplotlib.text.Text at 0x7fc399e8f5c0>"
      ]
     },
     "execution_count": 50,
     "metadata": {},
     "output_type": "execute_result"
    },
    {
     "data": {
      "image/png": "[encoded data removed]",
      "text/plain": [
       "<matplotlib.figure.Figure at 0x7fc39a18d940>"
      ]
     },
     "metadata": {},
     "output_type": "display_data"
    }
   ],
   "source": [
    "fig, ax = plt.subplots()\n",
    "cluster_detail['card_portion'].hist(bins = 100, ax = ax)\n",
    "ax.set_yscale('log')\n",
    "ax.set_ylabel(\"log count\")\n",
    "ax.set_xlabel(\"freqency of containing card gene in a cluster\")"
   ]
  },
  {
   "cell_type": "code",
   "execution_count": 51,
   "metadata": {
    "collapsed": false
   },
   "outputs": [
    {
     "data": {
      "text/plain": [
       "<matplotlib.text.Text at 0x7fc399f542e8>"
      ]
     },
     "execution_count": 51,
     "metadata": {},
     "output_type": "execute_result"
    },
    {
     "data": {
      "image/png": "[encoded data removed]",
      "text/plain": [
       "<matplotlib.figure.Figure at 0x7fc399fef4a8>"
      ]
     },
     "metadata": {},
     "output_type": "display_data"
    }
   ],
   "source": [
    "fig, ax = plt.subplots()\n",
    "cluster_detail['card_count'].hist(bins = 10, ax = ax)\n",
    "ax.set_yscale('log')\n",
    "ax.set_ylabel(\"log count\")\n",
    "ax.set_xlabel(\"card gene count\")"
   ]
  },
  {
   "cell_type": "code",
   "execution_count": 79,
   "metadata": {
    "collapsed": false
   },
   "outputs": [],
   "source": [
    "cluster_detail.to_pickle(\"../../cdhitResult/cluster_detail_tmp1010\")"
   ]
  },
  {
   "cell_type": "code",
   "execution_count": 137,
   "metadata": {
    "collapsed": false
   },
   "outputs": [],
   "source": [
    "ct = pd.DataFrame(columns = ['core', 'accessory'])\n",
    "i = 0\n",
    "for index, row in df.iterrows():\n",
    "    i = i + 1\n",
    "    count = df.iloc[:i, :]\n",
    "    \n",
    "    count = count.sum(axis = 0)\n",
    "    \n",
    "    core = len(count.loc[count == i])\n",
    "    accessory = 15950 - core ######\n",
    "    ct.loc[index, 'core'] = core\n",
    "    ct.loc[index, 'accessory'] = accessory"
   ]
  },
  {
   "cell_type": "code",
   "execution_count": 145,
   "metadata": {
    "collapsed": false
   },
   "outputs": [
    {
     "data": {
      "text/plain": [
       "<matplotlib.axes._subplots.AxesSubplot at 0x7fc39934df60>"
      ]
     },
     "execution_count": 145,
     "metadata": {},
     "output_type": "execute_result"
    },
    {
     "data": {
      "image/png": "[encoded data removed]",
      "text/plain": [
       "<matplotlib.figure.Figure at 0x7fc3994fb358>"
      ]
     },
     "metadata": {},
     "output_type": "display_data"
    }
   ],
   "source": [
    "ct.plot(xticks = np.arange(0, 59, 1), use_index = False, figsize = (15,10))"
   ]
  },
  {
   "cell_type": "code",
   "execution_count": 123,
   "metadata": {
    "collapsed": true
   },
   "outputs": [],
   "source": [
    "count = df.sum(axis = 0)\n",
    "core = len(count.loc[count == i])"
   ]
  },
  {
   "cell_type": "code",
   "execution_count": 127,
   "metadata": {
    "collapsed": false
   },
   "outputs": [
    {
     "data": {
      "text/plain": [
       "Cluster 0         7\n",
       "Cluster 1         2\n",
       "Cluster 2         1\n",
       "Cluster 3         5\n",
       "Cluster 4         2\n",
       "Cluster 5        11\n",
       "Cluster 6         1\n",
       "Cluster 7         2\n",
       "Cluster 8         2\n",
       "Cluster 9        46\n",
       "Cluster 10        1\n",
       "Cluster 11        1\n",
       "Cluster 12       18\n",
       "Cluster 13        1\n",
       "Cluster 14       18\n",
       "Cluster 15       17\n",
       "Cluster 16        6\n",
       "Cluster 17        4\n",
       "Cluster 18        5\n",
       "Cluster 19        1\n",
       "Cluster 20       29\n",
       "Cluster 21        3\n",
       "Cluster 22        3\n",
       "Cluster 23        8\n",
       "Cluster 24        2\n",
       "Cluster 25        3\n",
       "Cluster 26        2\n",
       "Cluster 27       16\n",
       "Cluster 28        1\n",
       "Cluster 29        1\n",
       "                 ..\n",
       "Cluster 15920     1\n",
       "Cluster 15921     3\n",
       "Cluster 15922     1\n",
       "Cluster 15923     2\n",
       "Cluster 15924     1\n",
       "Cluster 15925    10\n",
       "Cluster 15926     3\n",
       "Cluster 15927     1\n",
       "Cluster 15928     1\n",
       "Cluster 15929     1\n",
       "Cluster 15930     1\n",
       "Cluster 15931     1\n",
       "Cluster 15932     1\n",
       "Cluster 15933     1\n",
       "Cluster 15934     1\n",
       "Cluster 15935     1\n",
       "Cluster 15936     2\n",
       "Cluster 15937     1\n",
       "Cluster 15938     1\n",
       "Cluster 15939     1\n",
       "Cluster 15940     1\n",
       "Cluster 15941     1\n",
       "Cluster 15942     1\n",
       "Cluster 15943     1\n",
       "Cluster 15944     1\n",
       "Cluster 15945     1\n",
       "Cluster 15946     1\n",
       "Cluster 15947     1\n",
       "Cluster 15948     1\n",
       "Cluster 15949     1\n",
       "Length: 15950, dtype: int64"
      ]
     },
     "execution_count": 127,
     "metadata": {},
     "output_type": "execute_result"
    }
   ],
   "source": [
    "count = df.sum(axis = 0)\n",
    "count"
   ]
  },
  {
   "cell_type": "code",
   "execution_count": 128,
   "metadata": {
    "collapsed": false
   },
   "outputs": [
    {
     "data": {
      "text/plain": [
       "Cluster 55       59\n",
       "Cluster 72       59\n",
       "Cluster 83       59\n",
       "Cluster 90       59\n",
       "Cluster 115      59\n",
       "Cluster 140      59\n",
       "Cluster 142      59\n",
       "Cluster 145      59\n",
       "Cluster 150      59\n",
       "Cluster 153      59\n",
       "Cluster 164      59\n",
       "Cluster 175      59\n",
       "Cluster 185      59\n",
       "Cluster 187      59\n",
       "Cluster 192      59\n",
       "Cluster 209      59\n",
       "Cluster 215      59\n",
       "Cluster 218      59\n",
       "Cluster 222      59\n",
       "Cluster 229      59\n",
       "Cluster 247      59\n",
       "Cluster 248      59\n",
       "Cluster 252      59\n",
       "Cluster 256      59\n",
       "Cluster 261      59\n",
       "Cluster 275      59\n",
       "Cluster 280      59\n",
       "Cluster 281      59\n",
       "Cluster 284      59\n",
       "Cluster 285      59\n",
       "                 ..\n",
       "Cluster 15008    59\n",
       "Cluster 15117    59\n",
       "Cluster 15118    59\n",
       "Cluster 15119    59\n",
       "Cluster 15120    59\n",
       "Cluster 15121    59\n",
       "Cluster 15123    59\n",
       "Cluster 15164    59\n",
       "Cluster 15196    59\n",
       "Cluster 15200    59\n",
       "Cluster 15201    59\n",
       "Cluster 15202    59\n",
       "Cluster 15245    59\n",
       "Cluster 15273    59\n",
       "Cluster 15305    59\n",
       "Cluster 15404    59\n",
       "Cluster 15436    59\n",
       "Cluster 15488    59\n",
       "Cluster 15489    59\n",
       "Cluster 15515    59\n",
       "Cluster 15595    59\n",
       "Cluster 15619    59\n",
       "Cluster 15621    59\n",
       "Cluster 15691    59\n",
       "Cluster 15716    59\n",
       "Cluster 15771    59\n",
       "Cluster 15774    59\n",
       "Cluster 15828    59\n",
       "Cluster 15859    59\n",
       "Cluster 15904    59\n",
       "Length: 2874, dtype: int64"
      ]
     },
     "execution_count": 128,
     "metadata": {},
     "output_type": "execute_result"
    }
   ],
   "source": [
    "count.loc[count == i]"
   ]
  },
  {
   "cell_type": "code",
   "execution_count": 124,
   "metadata": {
    "collapsed": false
   },
   "outputs": [
    {
     "data": {
      "text/plain": [
       "2874"
      ]
     },
     "execution_count": 124,
     "metadata": {},
     "output_type": "execute_result"
    }
   ],
   "source": [
    "core"
   ]
  },
  {
   "cell_type": "code",
   "execution_count": 120,
   "metadata": {
    "collapsed": false
   },
   "outputs": [
    {
     "data": {
      "text/html": [
       "<div>\n",
       "<style>\n",
       "    .dataframe thead tr:only-child th {\n",
       "        text-align: right;\n",
       "    }\n",
       "\n",
       "    .dataframe thead th {\n",
       "        text-align: left;\n",
       "    }\n",
       "\n",
       "    .dataframe tbody tr th {\n",
       "        vertical-align: top;\n",
       "    }\n",
       "</style>\n",
       "<table border=\"1\" class=\"dataframe\">\n",
       "  <thead>\n",
       "    <tr style=\"text-align: right;\">\n",
       "      <th></th>\n",
       "      <th>core</th>\n",
       "      <th>accessory</th>\n",
       "    </tr>\n",
       "  </thead>\n",
       "  <tbody>\n",
       "    <tr>\n",
       "      <th>1438693.3</th>\n",
       "      <td>5522</td>\n",
       "      <td>10428</td>\n",
       "    </tr>\n",
       "    <tr>\n",
       "      <th>1438681.3</th>\n",
       "      <td>1702</td>\n",
       "      <td>14248</td>\n",
       "    </tr>\n",
       "    <tr>\n",
       "      <th>1328432.3</th>\n",
       "      <td>885</td>\n",
       "      <td>15065</td>\n",
       "    </tr>\n",
       "    <tr>\n",
       "      <th>1438694.3</th>\n",
       "      <td>374</td>\n",
       "      <td>15576</td>\n",
       "    </tr>\n",
       "    <tr>\n",
       "      <th>1328434.3</th>\n",
       "      <td>269</td>\n",
       "      <td>15681</td>\n",
       "    </tr>\n",
       "    <tr>\n",
       "      <th>1438695.3</th>\n",
       "      <td>200</td>\n",
       "      <td>15750</td>\n",
       "    </tr>\n",
       "    <tr>\n",
       "      <th>1438688.3</th>\n",
       "      <td>171</td>\n",
       "      <td>15779</td>\n",
       "    </tr>\n",
       "    <tr>\n",
       "      <th>1400157.3</th>\n",
       "      <td>202</td>\n",
       "      <td>15748</td>\n",
       "    </tr>\n",
       "    <tr>\n",
       "      <th>1445862.3</th>\n",
       "      <td>117</td>\n",
       "      <td>15833</td>\n",
       "    </tr>\n",
       "    <tr>\n",
       "      <th>1438675.3</th>\n",
       "      <td>73</td>\n",
       "      <td>15877</td>\n",
       "    </tr>\n",
       "    <tr>\n",
       "      <th>1328443.3</th>\n",
       "      <td>135</td>\n",
       "      <td>15815</td>\n",
       "    </tr>\n",
       "    <tr>\n",
       "      <th>1400156.3</th>\n",
       "      <td>135</td>\n",
       "      <td>15815</td>\n",
       "    </tr>\n",
       "    <tr>\n",
       "      <th>1328439.3</th>\n",
       "      <td>186</td>\n",
       "      <td>15764</td>\n",
       "    </tr>\n",
       "    <tr>\n",
       "      <th>1328437.3</th>\n",
       "      <td>200</td>\n",
       "      <td>15750</td>\n",
       "    </tr>\n",
       "    <tr>\n",
       "      <th>1328442.3</th>\n",
       "      <td>212</td>\n",
       "      <td>15738</td>\n",
       "    </tr>\n",
       "    <tr>\n",
       "      <th>1328440.3</th>\n",
       "      <td>241</td>\n",
       "      <td>15709</td>\n",
       "    </tr>\n",
       "    <tr>\n",
       "      <th>1328441.3</th>\n",
       "      <td>121</td>\n",
       "      <td>15829</td>\n",
       "    </tr>\n",
       "    <tr>\n",
       "      <th>1328445.3</th>\n",
       "      <td>273</td>\n",
       "      <td>15677</td>\n",
       "    </tr>\n",
       "    <tr>\n",
       "      <th>1328438.3</th>\n",
       "      <td>177</td>\n",
       "      <td>15773</td>\n",
       "    </tr>\n",
       "    <tr>\n",
       "      <th>1328444.3</th>\n",
       "      <td>152</td>\n",
       "      <td>15798</td>\n",
       "    </tr>\n",
       "    <tr>\n",
       "      <th>1328436.3</th>\n",
       "      <td>104</td>\n",
       "      <td>15846</td>\n",
       "    </tr>\n",
       "    <tr>\n",
       "      <th>562.10576</th>\n",
       "      <td>74</td>\n",
       "      <td>15876</td>\n",
       "    </tr>\n",
       "    <tr>\n",
       "      <th>1445863.3</th>\n",
       "      <td>112</td>\n",
       "      <td>15838</td>\n",
       "    </tr>\n",
       "    <tr>\n",
       "      <th>1438685.3</th>\n",
       "      <td>78</td>\n",
       "      <td>15872</td>\n",
       "    </tr>\n",
       "    <tr>\n",
       "      <th>1438673.3</th>\n",
       "      <td>55</td>\n",
       "      <td>15895</td>\n",
       "    </tr>\n",
       "    <tr>\n",
       "      <th>1438670.3</th>\n",
       "      <td>72</td>\n",
       "      <td>15878</td>\n",
       "    </tr>\n",
       "    <tr>\n",
       "      <th>1438677.3</th>\n",
       "      <td>33</td>\n",
       "      <td>15917</td>\n",
       "    </tr>\n",
       "    <tr>\n",
       "      <th>1438696.3</th>\n",
       "      <td>32</td>\n",
       "      <td>15918</td>\n",
       "    </tr>\n",
       "    <tr>\n",
       "      <th>1400158.3</th>\n",
       "      <td>40</td>\n",
       "      <td>15910</td>\n",
       "    </tr>\n",
       "    <tr>\n",
       "      <th>1438668.3</th>\n",
       "      <td>13</td>\n",
       "      <td>15937</td>\n",
       "    </tr>\n",
       "    <tr>\n",
       "      <th>562.12960</th>\n",
       "      <td>24</td>\n",
       "      <td>15926</td>\n",
       "    </tr>\n",
       "    <tr>\n",
       "      <th>562.16327</th>\n",
       "      <td>29</td>\n",
       "      <td>15921</td>\n",
       "    </tr>\n",
       "    <tr>\n",
       "      <th>1438691.3</th>\n",
       "      <td>34</td>\n",
       "      <td>15916</td>\n",
       "    </tr>\n",
       "    <tr>\n",
       "      <th>1438671.3</th>\n",
       "      <td>42</td>\n",
       "      <td>15908</td>\n",
       "    </tr>\n",
       "    <tr>\n",
       "      <th>1328446.3</th>\n",
       "      <td>30</td>\n",
       "      <td>15920</td>\n",
       "    </tr>\n",
       "    <tr>\n",
       "      <th>562.16466</th>\n",
       "      <td>80</td>\n",
       "      <td>15870</td>\n",
       "    </tr>\n",
       "    <tr>\n",
       "      <th>1438682.3</th>\n",
       "      <td>34</td>\n",
       "      <td>15916</td>\n",
       "    </tr>\n",
       "    <tr>\n",
       "      <th>1438680.3</th>\n",
       "      <td>43</td>\n",
       "      <td>15907</td>\n",
       "    </tr>\n",
       "    <tr>\n",
       "      <th>562.16324</th>\n",
       "      <td>38</td>\n",
       "      <td>15912</td>\n",
       "    </tr>\n",
       "    <tr>\n",
       "      <th>1438676.3</th>\n",
       "      <td>54</td>\n",
       "      <td>15896</td>\n",
       "    </tr>\n",
       "    <tr>\n",
       "      <th>1438679.3</th>\n",
       "      <td>29</td>\n",
       "      <td>15921</td>\n",
       "    </tr>\n",
       "    <tr>\n",
       "      <th>1328449.3</th>\n",
       "      <td>22</td>\n",
       "      <td>15928</td>\n",
       "    </tr>\n",
       "    <tr>\n",
       "      <th>1438674.3</th>\n",
       "      <td>24</td>\n",
       "      <td>15926</td>\n",
       "    </tr>\n",
       "    <tr>\n",
       "      <th>1438689.3</th>\n",
       "      <td>40</td>\n",
       "      <td>15910</td>\n",
       "    </tr>\n",
       "    <tr>\n",
       "      <th>1438672.3</th>\n",
       "      <td>32</td>\n",
       "      <td>15918</td>\n",
       "    </tr>\n",
       "    <tr>\n",
       "      <th>1438684.3</th>\n",
       "      <td>30</td>\n",
       "      <td>15920</td>\n",
       "    </tr>\n",
       "    <tr>\n",
       "      <th>1328433.3</th>\n",
       "      <td>21</td>\n",
       "      <td>15929</td>\n",
       "    </tr>\n",
       "    <tr>\n",
       "      <th>1438683.3</th>\n",
       "      <td>15</td>\n",
       "      <td>15935</td>\n",
       "    </tr>\n",
       "    <tr>\n",
       "      <th>1328447.3</th>\n",
       "      <td>28</td>\n",
       "      <td>15922</td>\n",
       "    </tr>\n",
       "    <tr>\n",
       "      <th>562.12959</th>\n",
       "      <td>10</td>\n",
       "      <td>15940</td>\n",
       "    </tr>\n",
       "    <tr>\n",
       "      <th>1438678.3</th>\n",
       "      <td>11</td>\n",
       "      <td>15939</td>\n",
       "    </tr>\n",
       "    <tr>\n",
       "      <th>1438687.3</th>\n",
       "      <td>19</td>\n",
       "      <td>15931</td>\n",
       "    </tr>\n",
       "    <tr>\n",
       "      <th>562.16326</th>\n",
       "      <td>23</td>\n",
       "      <td>15927</td>\n",
       "    </tr>\n",
       "    <tr>\n",
       "      <th>1328448.3</th>\n",
       "      <td>20</td>\n",
       "      <td>15930</td>\n",
       "    </tr>\n",
       "    <tr>\n",
       "      <th>1328450.3</th>\n",
       "      <td>36</td>\n",
       "      <td>15914</td>\n",
       "    </tr>\n",
       "    <tr>\n",
       "      <th>1438686.3</th>\n",
       "      <td>52</td>\n",
       "      <td>15898</td>\n",
       "    </tr>\n",
       "    <tr>\n",
       "      <th>1438669.3</th>\n",
       "      <td>87</td>\n",
       "      <td>15863</td>\n",
       "    </tr>\n",
       "    <tr>\n",
       "      <th>562.13502</th>\n",
       "      <td>209</td>\n",
       "      <td>15741</td>\n",
       "    </tr>\n",
       "    <tr>\n",
       "      <th>562.16325</th>\n",
       "      <td>2874</td>\n",
       "      <td>13076</td>\n",
       "    </tr>\n",
       "  </tbody>\n",
       "</table>\n",
       "</div>"
      ],
      "text/plain": [
       "           core accessory\n",
       "1438693.3  5522     10428\n",
       "1438681.3  1702     14248\n",
       "1328432.3   885     15065\n",
       "1438694.3   374     15576\n",
       "1328434.3   269     15681\n",
       "1438695.3   200     15750\n",
       "1438688.3   171     15779\n",
       "1400157.3   202     15748\n",
       "1445862.3   117     15833\n",
       "1438675.3    73     15877\n",
       "1328443.3   135     15815\n",
       "1400156.3   135     15815\n",
       "1328439.3   186     15764\n",
       "1328437.3   200     15750\n",
       "1328442.3   212     15738\n",
       "1328440.3   241     15709\n",
       "1328441.3   121     15829\n",
       "1328445.3   273     15677\n",
       "1328438.3   177     15773\n",
       "1328444.3   152     15798\n",
       "1328436.3   104     15846\n",
       "562.10576    74     15876\n",
       "1445863.3   112     15838\n",
       "1438685.3    78     15872\n",
       "1438673.3    55     15895\n",
       "1438670.3    72     15878\n",
       "1438677.3    33     15917\n",
       "1438696.3    32     15918\n",
       "1400158.3    40     15910\n",
       "1438668.3    13     15937\n",
       "562.12960    24     15926\n",
       "562.16327    29     15921\n",
       "1438691.3    34     15916\n",
       "1438671.3    42     15908\n",
       "1328446.3    30     15920\n",
       "562.16466    80     15870\n",
       "1438682.3    34     15916\n",
       "1438680.3    43     15907\n",
       "562.16324    38     15912\n",
       "1438676.3    54     15896\n",
       "1438679.3    29     15921\n",
       "1328449.3    22     15928\n",
       "1438674.3    24     15926\n",
       "1438689.3    40     15910\n",
       "1438672.3    32     15918\n",
       "1438684.3    30     15920\n",
       "1328433.3    21     15929\n",
       "1438683.3    15     15935\n",
       "1328447.3    28     15922\n",
       "562.12959    10     15940\n",
       "1438678.3    11     15939\n",
       "1438687.3    19     15931\n",
       "562.16326    23     15927\n",
       "1328448.3    20     15930\n",
       "1328450.3    36     15914\n",
       "1438686.3    52     15898\n",
       "1438669.3    87     15863\n",
       "562.13502   209     15741\n",
       "562.16325  2874     13076"
      ]
     },
     "execution_count": 120,
     "metadata": {},
     "output_type": "execute_result"
    }
   ],
   "source": [
    "ct"
   ]
  },
  {
   "cell_type": "code",
   "execution_count": null,
   "metadata": {
    "collapsed": true
   },
   "outputs": [],
   "source": []
  }
 ],
 "metadata": {
  "kernelspec": {
   "display_name": "Python 3",
   "language": "python",
   "name": "python3"
  },
  "language_info": {
   "codemirror_mode": {
    "name": "ipython",
    "version": 3
   },
   "file_extension": ".py",
   "mimetype": "text/x-python",
   "name": "python",
   "nbconvert_exporter": "python",
   "pygments_lexer": "ipython3",
   "version": "3.6.0"
  }
 },
 "nbformat": 4,
 "nbformat_minor": 2
}
